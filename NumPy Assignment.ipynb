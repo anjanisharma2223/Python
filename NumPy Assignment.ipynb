{
 "cells": [
  {
   "cell_type": "markdown",
   "id": "262b2df0",
   "metadata": {},
   "source": [
    "Q1. Write statement to import NumPy?"
   ]
  },
  {
   "cell_type": "code",
   "execution_count": 1,
   "id": "4b6c3e31",
   "metadata": {},
   "outputs": [],
   "source": [
    "import numpy as np"
   ]
  },
  {
   "cell_type": "markdown",
   "id": "de0f82bf",
   "metadata": {},
   "source": [
    "Q2. Create an array using NumPy?"
   ]
  },
  {
   "cell_type": "code",
   "execution_count": 2,
   "id": "181bca56",
   "metadata": {},
   "outputs": [
    {
     "data": {
      "text/plain": [
       "array([1, 2, 3, 4, 5, 6])"
      ]
     },
     "execution_count": 2,
     "metadata": {},
     "output_type": "execute_result"
    }
   ],
   "source": [
    "arr=np.array([1,2,3,4,5,6])\n",
    "arr"
   ]
  },
  {
   "cell_type": "markdown",
   "id": "13bd1adf",
   "metadata": {},
   "source": [
    "Q3. Create an array of 10 random integers?"
   ]
  },
  {
   "cell_type": "code",
   "execution_count": 3,
   "id": "b7e2c2c7",
   "metadata": {},
   "outputs": [
    {
     "data": {
      "text/plain": [
       "array([19,  8, 24, 20, 25, 29, 13,  9, 20,  7])"
      ]
     },
     "execution_count": 3,
     "metadata": {},
     "output_type": "execute_result"
    }
   ],
   "source": [
    "random_integers=np.random.randint(2,30,10)\n",
    "random_integers"
   ]
  },
  {
   "cell_type": "markdown",
   "id": "70150a35",
   "metadata": {},
   "source": [
    "Q4. Create an array of elements from 10-20?"
   ]
  },
  {
   "cell_type": "code",
   "execution_count": 4,
   "id": "1515a569",
   "metadata": {},
   "outputs": [
    {
     "data": {
      "text/plain": [
       "array([10, 11, 12, 13, 14, 15, 16, 17, 18, 19, 20])"
      ]
     },
     "execution_count": 4,
     "metadata": {},
     "output_type": "execute_result"
    }
   ],
   "source": [
    "arr=np.arange(10,21)\n",
    "arr"
   ]
  },
  {
   "cell_type": "markdown",
   "id": "36b4b532",
   "metadata": {},
   "source": [
    "Q5. Create an array which contains value 5,10 times?"
   ]
  },
  {
   "cell_type": "code",
   "execution_count": 6,
   "id": "89fee5f1",
   "metadata": {},
   "outputs": [
    {
     "data": {
      "text/plain": [
       "array([5, 5, 5, 5, 5, 5, 5, 5, 5, 5])"
      ]
     },
     "execution_count": 6,
     "metadata": {},
     "output_type": "execute_result"
    }
   ],
   "source": [
    "arr=np.repeat(5,10)\n",
    "arr"
   ]
  },
  {
   "cell_type": "markdown",
   "id": "25e0111f",
   "metadata": {},
   "source": [
    "Q6. Create one dimensional array and convert that into 3*3 matrix?"
   ]
  },
  {
   "cell_type": "code",
   "execution_count": 7,
   "id": "7fe0e069",
   "metadata": {},
   "outputs": [
    {
     "data": {
      "text/plain": [
       "array([[1, 2, 3],\n",
       "       [4, 5, 6],\n",
       "       [7, 8, 9]])"
      ]
     },
     "execution_count": 7,
     "metadata": {},
     "output_type": "execute_result"
    }
   ],
   "source": [
    "arr=np.array([1,2,3,4,5,6,7,8,9]).reshape(3,3)\n",
    "arr"
   ]
  },
  {
   "cell_type": "markdown",
   "id": "b8ac5edf",
   "metadata": {},
   "source": [
    "Q7 Create a 2D array of size 3*3 but all the elements should be between 0 to 1?"
   ]
  },
  {
   "cell_type": "code",
   "execution_count": 9,
   "id": "49e161ac",
   "metadata": {},
   "outputs": [
    {
     "data": {
      "text/plain": [
       "array([[0.07808262, 0.69509915, 0.49493589],\n",
       "       [0.75974632, 0.70835104, 0.11735075],\n",
       "       [0.96048942, 0.50450554, 0.01564352]])"
      ]
     },
     "execution_count": 9,
     "metadata": {},
     "output_type": "execute_result"
    }
   ],
   "source": [
    "arr=np.random.rand(3,3)\n",
    "arr"
   ]
  },
  {
   "cell_type": "markdown",
   "id": "b3778c84",
   "metadata": {},
   "source": [
    "Q8. Concatenate 2D array horizontally and vertically?"
   ]
  },
  {
   "cell_type": "code",
   "execution_count": 11,
   "id": "b6f7d07f",
   "metadata": {},
   "outputs": [
    {
     "name": "stdout",
     "output_type": "stream",
     "text": [
      "Horizontally concatenated array =\n",
      " [[1 2 5 6]\n",
      " [3 4 7 8]]\n",
      "Vertically concatenated array =\n",
      " [[1 2]\n",
      " [3 4]\n",
      " [5 6]\n",
      " [7 8]]\n"
     ]
    }
   ],
   "source": [
    "arr1=np.array([1,2,3,4]).reshape(2,2)\n",
    "arr2=np.array([5,6,7,8]).reshape(2,2)\n",
    "horizontal_concatenate=np.hstack((arr1,arr2))\n",
    "vertical_concatenate=np.vstack((arr1,arr2))\n",
    "print(f\"Horizontally concatenated array =\\n {horizontal_concatenate}\")\n",
    "print(f\"Vertically concatenated array =\\n {vertical_concatenate}\")"
   ]
  }
 ],
 "metadata": {
  "kernelspec": {
   "display_name": "Python 3 (ipykernel)",
   "language": "python",
   "name": "python3"
  },
  "language_info": {
   "codemirror_mode": {
    "name": "ipython",
    "version": 3
   },
   "file_extension": ".py",
   "mimetype": "text/x-python",
   "name": "python",
   "nbconvert_exporter": "python",
   "pygments_lexer": "ipython3",
   "version": "3.9.12"
  }
 },
 "nbformat": 4,
 "nbformat_minor": 5
}
