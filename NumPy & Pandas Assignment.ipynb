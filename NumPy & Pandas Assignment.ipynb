{
 "cells": [
  {
   "cell_type": "markdown",
   "id": "426a376d",
   "metadata": {},
   "source": [
    "# Q1. Why is numpy better than list"
   ]
  },
  {
   "cell_type": "markdown",
   "id": "969df3e1",
   "metadata": {},
   "source": [
    "1. Numpy consumes less memory than list.\n",
    "2. Numpy takes less execution time than list."
   ]
  },
  {
   "cell_type": "markdown",
   "id": "53ed13bc",
   "metadata": {},
   "source": [
    "# Q2. How do you define shape, size of an array"
   ]
  },
  {
   "cell_type": "code",
   "execution_count": 3,
   "id": "469b11d0",
   "metadata": {},
   "outputs": [
    {
     "name": "stdout",
     "output_type": "stream",
     "text": [
      "Total Dimension :  2\n",
      "Total shape :  (2, 3)\n",
      "Total size :  6\n"
     ]
    }
   ],
   "source": [
    "import numpy as np\n",
    "a=np.array([[1,2,3],[4,5,6]])\n",
    "print(\"Total Dimension : \",a.ndim)\n",
    "print(\"Total shape : \",a.shape)\n",
    "print(\"Total size : \",a.size)"
   ]
  },
  {
   "cell_type": "markdown",
   "id": "cb04defe",
   "metadata": {},
   "source": [
    "# Q3. Difference between zeros, ones, eye, diag functions. Provide examples."
   ]
  },
  {
   "cell_type": "code",
   "execution_count": 6,
   "id": "de1adef1",
   "metadata": {},
   "outputs": [
    {
     "data": {
      "text/plain": [
       "array([[0., 0., 0.],\n",
       "       [0., 0., 0.]])"
      ]
     },
     "execution_count": 6,
     "metadata": {},
     "output_type": "execute_result"
    }
   ],
   "source": [
    "# Zeros ->This function create an array(either one dimensional or multi dimensional) and fill all values with zeros\n",
    "a=np.zeros((2,3))\n",
    "a"
   ]
  },
  {
   "cell_type": "code",
   "execution_count": 7,
   "id": "78fda1f7",
   "metadata": {},
   "outputs": [
    {
     "data": {
      "text/plain": [
       "array([[1., 1., 1., 1.],\n",
       "       [1., 1., 1., 1.],\n",
       "       [1., 1., 1., 1.]])"
      ]
     },
     "execution_count": 7,
     "metadata": {},
     "output_type": "execute_result"
    }
   ],
   "source": [
    "# Ones-> This function creates an array(either one dimensional or multi dimensional) and fill all the values with one.\n",
    "a=np.ones((3,4))\n",
    "a"
   ]
  },
  {
   "cell_type": "code",
   "execution_count": 9,
   "id": "96e91fc8",
   "metadata": {},
   "outputs": [
    {
     "data": {
      "text/plain": [
       "array([[1., 0., 0.],\n",
       "       [0., 1., 0.],\n",
       "       [0., 0., 1.]])"
      ]
     },
     "execution_count": 9,
     "metadata": {},
     "output_type": "execute_result"
    }
   ],
   "source": [
    "# eye-> This function creates an array with all the diagnol elements as 1 and rest 0.\n",
    "a=np.eye(3,3)\n",
    "a"
   ]
  },
  {
   "cell_type": "code",
   "execution_count": 11,
   "id": "61d6c23e",
   "metadata": {},
   "outputs": [
    {
     "data": {
      "text/plain": [
       "array([[1, 0, 0, 0, 0],\n",
       "       [0, 2, 0, 0, 0],\n",
       "       [0, 0, 3, 0, 0],\n",
       "       [0, 0, 0, 4, 0],\n",
       "       [0, 0, 0, 0, 5]])"
      ]
     },
     "execution_count": 11,
     "metadata": {},
     "output_type": "execute_result"
    }
   ],
   "source": [
    "# diag-> This function creates a two dimensional array with all the diagnom elements as the given value and rest are the zeros.\n",
    "a=np.diag([1,2,3,4,5])\n",
    "a"
   ]
  },
  {
   "cell_type": "markdown",
   "id": "ee45a4b0",
   "metadata": {},
   "source": [
    "# Q4. What is randint function. How can you fix your random data."
   ]
  },
  {
   "cell_type": "code",
   "execution_count": 12,
   "id": "a574aad1",
   "metadata": {},
   "outputs": [
    {
     "data": {
      "text/plain": [
       "array([ 9, 15,  2, 16, 19, 16])"
      ]
     },
     "execution_count": 12,
     "metadata": {},
     "output_type": "execute_result"
    }
   ],
   "source": [
    "# Randint function is used to generate a random number between a given range.\n",
    "a=np.random.randint(1,20,6)\n",
    "a"
   ]
  },
  {
   "cell_type": "code",
   "execution_count": 18,
   "id": "6ed16fbc",
   "metadata": {},
   "outputs": [
    {
     "data": {
      "text/plain": [
       "array([ 9, 16, 14,  9, 12, 19])"
      ]
     },
     "execution_count": 18,
     "metadata": {},
     "output_type": "execute_result"
    }
   ],
   "source": [
    "# Random data is fixed with the help of seed function.\n",
    "np.random.seed(2)\n",
    "a=np.random.randint(1,20,6)\n",
    "a"
   ]
  },
  {
   "cell_type": "markdown",
   "id": "63d36b16",
   "metadata": {},
   "source": [
    "# Q5. Difference between linspace and unique function. "
   ]
  },
  {
   "cell_type": "code",
   "execution_count": 13,
   "id": "f3dc349e",
   "metadata": {},
   "outputs": [
    {
     "data": {
      "text/plain": [
       "array([1. , 1.6, 2.2, 2.8, 3.4, 4. ])"
      ]
     },
     "execution_count": 13,
     "metadata": {},
     "output_type": "execute_result"
    }
   ],
   "source": [
    "# Linspace function return evenly spaced numbers over a specified interval.\n",
    "a=np.linspace(1,4,6)\n",
    "a"
   ]
  },
  {
   "cell_type": "code",
   "execution_count": 14,
   "id": "98827244",
   "metadata": {},
   "outputs": [
    {
     "data": {
      "text/plain": [
       "array([1, 2, 3, 4, 5, 6, 7])"
      ]
     },
     "execution_count": 14,
     "metadata": {},
     "output_type": "execute_result"
    }
   ],
   "source": [
    "# Unique function return unique elements as a sorted array.\n",
    "a=np.unique([1,3,2,4,5,2,6,4,6,7,5,1])\n",
    "a"
   ]
  },
  {
   "cell_type": "markdown",
   "id": "81c83cc3",
   "metadata": {},
   "source": [
    "# Q6. Difference between horizontal stacking and vertical stacking. Provide example."
   ]
  },
  {
   "cell_type": "code",
   "execution_count": 15,
   "id": "c15a1710",
   "metadata": {},
   "outputs": [
    {
     "data": {
      "text/plain": [
       "array([1, 2, 3, 4, 5, 6, 7, 8])"
      ]
     },
     "execution_count": 15,
     "metadata": {},
     "output_type": "execute_result"
    }
   ],
   "source": [
    "# Horizontal Stacking-> It performs horizontal stacking along with the columns.\n",
    "a=np.hstack([[1,2,3,4],[5,6,7,8]])\n",
    "a"
   ]
  },
  {
   "cell_type": "code",
   "execution_count": 16,
   "id": "0001fd57",
   "metadata": {},
   "outputs": [
    {
     "data": {
      "text/plain": [
       "array([[1, 2, 3, 4],\n",
       "       [5, 6, 7, 8]])"
      ]
     },
     "execution_count": 16,
     "metadata": {},
     "output_type": "execute_result"
    }
   ],
   "source": [
    "# Vertical Stacking -> It performs vertical stacking along with the rows.\n",
    "a=np.vstack([[1,2,3,4],[5,6,7,8]])\n",
    "a"
   ]
  },
  {
   "cell_type": "markdown",
   "id": "049453e5",
   "metadata": {},
   "source": [
    "# Q7. How can you multiply two array in numpy."
   ]
  },
  {
   "cell_type": "code",
   "execution_count": 21,
   "id": "651aea50",
   "metadata": {},
   "outputs": [
    {
     "data": {
      "text/plain": [
       "array([[140, 170],\n",
       "       [460, 570]])"
      ]
     },
     "execution_count": 21,
     "metadata": {},
     "output_type": "execute_result"
    }
   ],
   "source": [
    "# In numpy, two array are multiplied by dot function.\n",
    "a=np.array([[10,20],[50,60]])\n",
    "b=np.array([[2,3],[6,7]])\n",
    "a.dot(b)"
   ]
  },
  {
   "cell_type": "markdown",
   "id": "94298f39",
   "metadata": {},
   "source": [
    "# Q8. Difference between series and dataframe."
   ]
  },
  {
   "cell_type": "code",
   "execution_count": 31,
   "id": "1d58b3fe",
   "metadata": {},
   "outputs": [
    {
     "name": "stdout",
     "output_type": "stream",
     "text": [
      "Series : \n",
      "\n",
      "0    10\n",
      "1    20\n",
      "2    30\n",
      "3    40\n",
      "dtype: int64\n",
      "DataFrame :\n",
      "\n",
      "    0   1   2   3\n",
      "0  10  20  30  40\n",
      "1  50  60  70  80\n"
     ]
    }
   ],
   "source": [
    "# Series has only one column while DataFrame can have single or multiple columns.\n",
    "import pandas as pd\n",
    "a=pd.Series([10,20,30,40])\n",
    "print(\"Series : \\n\")\n",
    "print(a)\n",
    "b=pd.DataFrame([[10,20,30,40],[50,60,70,80]])\n",
    "print(\"DataFrame :\\n\")\n",
    "print(b)"
   ]
  },
  {
   "cell_type": "markdown",
   "id": "9f8065fb",
   "metadata": {},
   "source": [
    "# Q9. Difference between loc and iloc."
   ]
  },
  {
   "cell_type": "code",
   "execution_count": 42,
   "id": "25cf5028",
   "metadata": {},
   "outputs": [
    {
     "data": {
      "text/plain": [
       "1    2\n",
       "2    3\n",
       "3    9\n",
       "4    4\n",
       "5    5\n",
       "6    7\n",
       "dtype: int64"
      ]
     },
     "metadata": {},
     "output_type": "display_data"
    }
   ],
   "source": [
    "# The loc function is used for label indexing can access multiple columns.\n",
    "a=pd.Series([1,2,3,9,4,5,7,8])\n",
    "display(a.loc[1:6])"
   ]
  },
  {
   "cell_type": "code",
   "execution_count": 39,
   "id": "c43f55a8",
   "metadata": {},
   "outputs": [
    {
     "data": {
      "text/plain": [
       "1    2\n",
       "3    9\n",
       "5    5\n",
       "dtype: int64"
      ]
     },
     "metadata": {},
     "output_type": "display_data"
    }
   ],
   "source": [
    "# The iloc function is used for integer indexing\n",
    "a=pd.Series([1,2,3,9,4,5,7,8])\n",
    "display(a.iloc[[1,3,5]])"
   ]
  },
  {
   "cell_type": "markdown",
   "id": "8cb7c3ef",
   "metadata": {},
   "source": [
    "# Q10. What does value counts."
   ]
  },
  {
   "cell_type": "code",
   "execution_count": 43,
   "id": "010ccff3",
   "metadata": {},
   "outputs": [
    {
     "data": {
      "text/plain": [
       "2    4\n",
       "3    4\n",
       "1    1\n",
       "4    1\n",
       "6    1\n",
       "7    1\n",
       "5    1\n",
       "9    1\n",
       "dtype: int64"
      ]
     },
     "execution_count": 43,
     "metadata": {},
     "output_type": "execute_result"
    }
   ],
   "source": [
    "# value_counts function returns a series containing counts of unique values.\n",
    "a=pd.Series([1,2,3,2,3,4,2,3,6,7,5,3,2,9])\n",
    "a.value_counts()"
   ]
  },
  {
   "cell_type": "markdown",
   "id": "30f0beba",
   "metadata": {},
   "source": [
    "# Q11. How can you extract month, days and year in a date time column using pandas."
   ]
  },
  {
   "cell_type": "code",
   "execution_count": 59,
   "id": "bb5329d8",
   "metadata": {},
   "outputs": [
    {
     "name": "stdout",
     "output_type": "stream",
     "text": [
      "            date_time  month  day  year\n",
      "0 2023-01-15 08:30:00      1   15  2023\n",
      "1 2023-02-20 12:45:00      2   20  2023\n",
      "2 2023-03-25 18:15:00      3   25  2023\n"
     ]
    }
   ],
   "source": [
    "# Use DatetimeIndex To extract the month and year from the pandas Datetime column.\n",
    "import datetime\n",
    "data = {'date_time': ['2023-01-15 08:30:00', '2023-02-20 12:45:00', '2023-03-25 18:15:00']}\n",
    "df = pd.DataFrame(data)\n",
    "df['date_time'] = pd.to_datetime(df['date_time'])\n",
    "\n",
    "df['month'] = df['date_time'].dt.month\n",
    "df['day'] = df['date_time'].dt.day\n",
    "df['year'] = df['date_time'].dt.year\n",
    "print(df)"
   ]
  },
  {
   "cell_type": "markdown",
   "id": "274b6504",
   "metadata": {},
   "source": [
    "# Q12. How do you handle missing values in a dataframe."
   ]
  },
  {
   "cell_type": "code",
   "execution_count": 49,
   "id": "d7cd2f93",
   "metadata": {},
   "outputs": [
    {
     "data": {
      "text/plain": [
       "0    False\n",
       "1    False\n",
       "2    False\n",
       "3    False\n",
       "4    False\n",
       "5    False\n",
       "dtype: bool"
      ]
     },
     "execution_count": 49,
     "metadata": {},
     "output_type": "execute_result"
    }
   ],
   "source": [
    "# Missing values in a DataFrame using isnull()\n",
    "a=pd.Series([1,2,3,4,5,6])\n",
    "a.isnull()"
   ]
  },
  {
   "cell_type": "markdown",
   "id": "d75800f7",
   "metadata": {},
   "source": [
    "# Q13. How do you rename column name in a dataframe."
   ]
  },
  {
   "cell_type": "code",
   "execution_count": 51,
   "id": "61b42c04",
   "metadata": {},
   "outputs": [
    {
     "data": {
      "text/html": [
       "<div>\n",
       "<style scoped>\n",
       "    .dataframe tbody tr th:only-of-type {\n",
       "        vertical-align: middle;\n",
       "    }\n",
       "\n",
       "    .dataframe tbody tr th {\n",
       "        vertical-align: top;\n",
       "    }\n",
       "\n",
       "    .dataframe thead th {\n",
       "        text-align: right;\n",
       "    }\n",
       "</style>\n",
       "<table border=\"1\" class=\"dataframe\">\n",
       "  <thead>\n",
       "    <tr style=\"text-align: right;\">\n",
       "      <th></th>\n",
       "      <th>Student</th>\n",
       "      <th>Class</th>\n",
       "    </tr>\n",
       "  </thead>\n",
       "  <tbody>\n",
       "    <tr>\n",
       "      <th>0</th>\n",
       "      <td>Ajay</td>\n",
       "      <td>A</td>\n",
       "    </tr>\n",
       "    <tr>\n",
       "      <th>1</th>\n",
       "      <td>Ayan</td>\n",
       "      <td>B</td>\n",
       "    </tr>\n",
       "  </tbody>\n",
       "</table>\n",
       "</div>"
      ],
      "text/plain": [
       "  Student Class\n",
       "0    Ajay     A\n",
       "1    Ayan     B"
      ]
     },
     "execution_count": 51,
     "metadata": {},
     "output_type": "execute_result"
    }
   ],
   "source": [
    "# Using rename(), column name can be renamed.\n",
    "a=pd.DataFrame({'Student': ['Ajay','Ayan'],\n",
    "   'Batch' : ['A','B']})\n",
    "a.rename(columns={'Batch':'Class'},inplace=True)\n",
    "a\n"
   ]
  },
  {
   "cell_type": "markdown",
   "id": "a4457c49",
   "metadata": {},
   "source": [
    "# Q14. What are aggregate function. What is difference between pivot and pivot table and crosstab."
   ]
  },
  {
   "cell_type": "markdown",
   "id": "b4db9a03",
   "metadata": {},
   "source": [
    "An aggregate function in a mathemetical computation involving a range of values that result in just a single value expressing the significance of the accumulated data it is derived from. Aggregate functions are count(),sum(),avg(),min(),max()."
   ]
  },
  {
   "cell_type": "markdown",
   "id": "fcb80145",
   "metadata": {},
   "source": [
    "The pivot function in Pandas is used to reshape or transform data by rearranging the rows and columns.\n",
    "\n",
    "The pivot_table function in Pandas is an extension of the pivot function and is specifically designed for creating spreadsheet-style pivot tables.\n",
    "\n",
    "The crosstab function in Pandas is used to compute cross-tabulations, also known as contingency tables or pivot tables of factors."
   ]
  }
 ],
 "metadata": {
  "kernelspec": {
   "display_name": "Python 3 (ipykernel)",
   "language": "python",
   "name": "python3"
  },
  "language_info": {
   "codemirror_mode": {
    "name": "ipython",
    "version": 3
   },
   "file_extension": ".py",
   "mimetype": "text/x-python",
   "name": "python",
   "nbconvert_exporter": "python",
   "pygments_lexer": "ipython3",
   "version": "3.9.12"
  }
 },
 "nbformat": 4,
 "nbformat_minor": 5
}
