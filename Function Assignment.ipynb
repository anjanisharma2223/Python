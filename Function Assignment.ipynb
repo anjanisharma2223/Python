{
 "cells": [
  {
   "cell_type": "markdown",
   "id": "a418e5a2",
   "metadata": {},
   "source": [
    "# Importance of Function \n",
    "Python Functions is a block of statements that return the specific task. The idea is to put some commonly or repeatedly done tasks together and make a function so that instead of writing the same code again and again for different inputs, we can do the function calls to reuse code contained in it over and over again."
   ]
  },
  {
   "cell_type": "markdown",
   "id": "6e73e3ca",
   "metadata": {},
   "source": [
    "# Lambda Function\n",
    "Python Lambda Functions are anonymous functions means that the function is without a name.\n",
    "\n",
    "Syntax: lambda arguments : expression\n"
   ]
  },
  {
   "cell_type": "code",
   "execution_count": 1,
   "id": "005af80f",
   "metadata": {},
   "outputs": [
    {
     "name": "stdout",
     "output_type": "stream",
     "text": [
      "LAMBDA FUNCTION\n"
     ]
    }
   ],
   "source": [
    "str1 = 'Lambda Function'\n",
    " \n",
    "upper = lambda string: string.upper()\n",
    "print(upper(str1))"
   ]
  },
  {
   "cell_type": "code",
   "execution_count": 3,
   "id": "3023bba6",
   "metadata": {},
   "outputs": [
    {
     "name": "stdout",
     "output_type": "stream",
     "text": [
      "2\n"
     ]
    }
   ],
   "source": [
    "Max = lambda a, b : a if(a > b) else b\n",
    "print(Max(1, 2))"
   ]
  },
  {
   "cell_type": "code",
   "execution_count": 7,
   "id": "ea62e644",
   "metadata": {},
   "outputs": [
    {
     "name": "stdout",
     "output_type": "stream",
     "text": [
      "[2, 15, 5, 8]\n"
     ]
    }
   ],
   "source": [
    "mylist=[[1,2,3],[10,23,15],[4,5,6],[7,8,9]]\n",
    "\n",
    "sortList=lambda num: (sorted(i) for i in num)\n",
    "secondLargest = lambda num, f:[y[len(y)-2] for y in f(num)] \n",
    "res=secondLargest(mylist,sortList)\n",
    "\n",
    "print(res)"
   ]
  },
  {
   "cell_type": "code",
   "execution_count": 8,
   "id": "b446b61d",
   "metadata": {},
   "outputs": [
    {
     "name": "stdout",
     "output_type": "stream",
     "text": [
      "Even\n"
     ]
    }
   ],
   "source": [
    "Even_or_Odd = lambda a : \"Even\" if(a%2==0) else \"Odd\"\n",
    "print(Even_or_Odd(4))"
   ]
  },
  {
   "cell_type": "markdown",
   "id": "9aecaacc",
   "metadata": {},
   "source": [
    "# Filter Function\n",
    "\n",
    "The filter() method filters the given sequence with the help of a function the tests each element in the sequence to be true or not.\n",
    "\n",
    "Syntax: filter(function, sequence)"
   ]
  },
  {
   "cell_type": "code",
   "execution_count": 11,
   "id": "e0cc5250",
   "metadata": {},
   "outputs": [
    {
     "name": "stdout",
     "output_type": "stream",
     "text": [
      "Odd Number list :  [1, 3, 5, 13]\n",
      "Even Number list :  [0, 2, 8]\n"
     ]
    }
   ],
   "source": [
    "mylist = [0, 1, 2, 3, 5, 8, 13]\n",
    " \n",
    "result = filter(lambda num: num%2!=0, mylist)\n",
    "print(\"Odd Number list : \",list(result))\n",
    " \n",
    "result = filter(lambda num: num%2==0, mylist)\n",
    "print(\"Even Number list : \",list(result))"
   ]
  },
  {
   "cell_type": "code",
   "execution_count": 12,
   "id": "d60fcbd4",
   "metadata": {},
   "outputs": [
    {
     "name": "stdout",
     "output_type": "stream",
     "text": [
      "[3, 6, 9]\n"
     ]
    }
   ],
   "source": [
    "def is_multiple_of_3(num):\n",
    "    return num%3==0\n",
    " \n",
    "numbers = [1,2,3,4,5,6,7,8,9,10]\n",
    "result = list(filter(lambda num: is_multiple_of_3(num), numbers))\n",
    "print(result)"
   ]
  },
  {
   "cell_type": "code",
   "execution_count": 15,
   "id": "6e437e37",
   "metadata": {
    "scrolled": true
   },
   "outputs": [
    {
     "name": "stdout",
     "output_type": "stream",
     "text": [
      "The Vowel letters are:\n",
      "i\n",
      "e\n"
     ]
    }
   ],
   "source": [
    "def fun(character):\n",
    "    letters=['a','e','i','o','u']\n",
    "    if(character in letters):\n",
    "        return True\n",
    "    else:\n",
    "        return False\n",
    " \n",
    "mylist =['f','i','l','t','e','r']\n",
    "filtered = filter(fun,mylist)\n",
    " \n",
    "print('The Vowel letters are:')\n",
    "for s in filtered:\n",
    "    print(s)"
   ]
  },
  {
   "cell_type": "code",
   "execution_count": 17,
   "id": "5e67138a",
   "metadata": {},
   "outputs": [
    {
     "name": "stdout",
     "output_type": "stream",
     "text": [
      "18\n",
      "24\n",
      "32\n"
     ]
    }
   ],
   "source": [
    "def fun(x):\n",
    "  if x<18:\n",
    "    return False\n",
    "  else:\n",
    "    return True\n",
    "\n",
    "\n",
    "ages=[5, 12, 17, 18, 24, 32]\n",
    "\n",
    "adults=filter(fun,ages)\n",
    "\n",
    "for x in adults:\n",
    "  print(x)"
   ]
  },
  {
   "cell_type": "markdown",
   "id": "1539787f",
   "metadata": {},
   "source": [
    "# Reduce Function\n",
    "\n",
    "The reduce function is used to apply a particular function passed in its argument to all of the list elements mentioned in the sequence passed along.This function is defined in “functools” module."
   ]
  },
  {
   "cell_type": "code",
   "execution_count": 18,
   "id": "7b0d9f4f",
   "metadata": {},
   "outputs": [
    {
     "name": "stdout",
     "output_type": "stream",
     "text": [
      "The sum of the list elements is : 17\n"
     ]
    }
   ],
   "source": [
    "import functools \n",
    "\n",
    "mylist =[1, 3, 5, 6, 2] \n",
    "print(\"The sum of the list elements is : \", end=\"\") \n",
    "print(functools.reduce(lambda a, b: a+b, mylist)) "
   ]
  },
  {
   "cell_type": "code",
   "execution_count": 21,
   "id": "7ae0592a",
   "metadata": {},
   "outputs": [
    {
     "name": "stdout",
     "output_type": "stream",
     "text": [
      "The maximum element of the list is : 6\n"
     ]
    }
   ],
   "source": [
    "mylist =[1, 3, 5, 6, 2]\n",
    "print(\"The maximum element of the list is : \", end=\"\") \n",
    "print(functools.reduce(lambda a, b: a if a > b else b, mylist)) "
   ]
  },
  {
   "cell_type": "code",
   "execution_count": 22,
   "id": "36d5e5b3",
   "metadata": {},
   "outputs": [
    {
     "name": "stdout",
     "output_type": "stream",
     "text": [
      "The product of list elements is : 180\n"
     ]
    }
   ],
   "source": [
    "mylist =[1, 3, 5, 6, 2]\n",
    "print(\"The product of list elements is : \", end=\"\") \n",
    "print(functools.reduce(lambda a,b: a*b, mylist)) "
   ]
  },
  {
   "cell_type": "code",
   "execution_count": 24,
   "id": "bc619ad4",
   "metadata": {},
   "outputs": [
    {
     "name": "stdout",
     "output_type": "stream",
     "text": [
      "The concatenated product is : MynameisKhan\n"
     ]
    }
   ],
   "source": [
    "mylist =[\"My\",\"name\",\"is\",\"Khan\"]\n",
    "print(\"The concatenated product is : \", end=\"\") \n",
    "print(functools.reduce(lambda a, b: a+b, mylist))"
   ]
  },
  {
   "cell_type": "markdown",
   "id": "42846fe7",
   "metadata": {},
   "source": [
    "# Map Function\n",
    "\n",
    "Map function returns a map object(which is an iterator) of the results after applying the given function to each item of a given iterable (list, tuple etc.)\n",
    "\n",
    "Syntax: map(fun, iter)"
   ]
  },
  {
   "cell_type": "code",
   "execution_count": 25,
   "id": "6579ca07",
   "metadata": {},
   "outputs": [
    {
     "name": "stdout",
     "output_type": "stream",
     "text": [
      "[2, 4, 6, 8]\n"
     ]
    }
   ],
   "source": [
    "def addition(n):\n",
    "    return n + n\n",
    " \n",
    "numbers =(1,2,3,4)\n",
    "result = map(addition,numbers)\n",
    "print(list(result))"
   ]
  },
  {
   "cell_type": "code",
   "execution_count": 26,
   "id": "0a3d9ce7",
   "metadata": {},
   "outputs": [
    {
     "name": "stdout",
     "output_type": "stream",
     "text": [
      "[1, 4, 9, 16]\n"
     ]
    }
   ],
   "source": [
    "numbers = (1, 2, 3, 4)\n",
    "result = map(lambda x: x*x, numbers)\n",
    "print(list(result))"
   ]
  },
  {
   "cell_type": "code",
   "execution_count": 27,
   "id": "ca798210",
   "metadata": {},
   "outputs": [
    {
     "name": "stdout",
     "output_type": "stream",
     "text": [
      "[['s', 'a', 't'], ['b', 'a', 't'], ['c', 'a', 't'], ['m', 'a', 't']]\n"
     ]
    }
   ],
   "source": [
    "mylist = ['sat', 'bat', 'cat', 'mat']\n",
    " \n",
    "test = list(map(list, mylist))\n",
    "print(test)"
   ]
  },
  {
   "cell_type": "code",
   "execution_count": 28,
   "id": "82efbc38",
   "metadata": {},
   "outputs": [
    {
     "name": "stdout",
     "output_type": "stream",
     "text": [
      "[1, 4, 3, 8]\n"
     ]
    }
   ],
   "source": [
    "def double_even(num):\n",
    "    if num % 2 == 0:\n",
    "        return num * 2\n",
    "    else:\n",
    "        return num\n",
    " \n",
    "mylist = [1, 2, 3, 4, 5]\n",
    "result = list(map(double_even, numbers))\n",
    "print(result)  # [1, 4, 3, 8, 5]"
   ]
  }
 ],
 "metadata": {
  "kernelspec": {
   "display_name": "Python 3 (ipykernel)",
   "language": "python",
   "name": "python3"
  },
  "language_info": {
   "codemirror_mode": {
    "name": "ipython",
    "version": 3
   },
   "file_extension": ".py",
   "mimetype": "text/x-python",
   "name": "python",
   "nbconvert_exporter": "python",
   "pygments_lexer": "ipython3",
   "version": "3.9.12"
  }
 },
 "nbformat": 4,
 "nbformat_minor": 5
}
