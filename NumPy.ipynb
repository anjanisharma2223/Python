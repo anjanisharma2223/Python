{
 "cells": [
  {
   "cell_type": "code",
   "execution_count": 1,
   "id": "98870096",
   "metadata": {},
   "outputs": [],
   "source": [
    "import numpy as np"
   ]
  },
  {
   "cell_type": "code",
   "execution_count": 2,
   "id": "a71cbd3f",
   "metadata": {},
   "outputs": [
    {
     "data": {
      "text/plain": [
       "list"
      ]
     },
     "execution_count": 2,
     "metadata": {},
     "output_type": "execute_result"
    }
   ],
   "source": [
    "a=[1,2,3,4]\n",
    "type(a)"
   ]
  },
  {
   "cell_type": "code",
   "execution_count": 3,
   "id": "97bb9fc5",
   "metadata": {},
   "outputs": [
    {
     "data": {
      "text/plain": [
       "array([1, 2, 3, 4])"
      ]
     },
     "execution_count": 3,
     "metadata": {},
     "output_type": "execute_result"
    }
   ],
   "source": [
    "b=np.array(a)\n",
    "b"
   ]
  },
  {
   "cell_type": "markdown",
   "id": "4908f526",
   "metadata": {},
   "source": [
    "# How to create a user defined array ?"
   ]
  },
  {
   "cell_type": "code",
   "execution_count": 7,
   "id": "ee104ce6",
   "metadata": {},
   "outputs": [
    {
     "name": "stdout",
     "output_type": "stream",
     "text": [
      "Enter the size: 4\n",
      "Enter your item: a\n",
      "Enter your item: b\n",
      "Enter your item: c\n",
      "Enter your item: d\n"
     ]
    },
    {
     "data": {
      "text/plain": [
       "['a', 'b', 'c', 'd']"
      ]
     },
     "execution_count": 7,
     "metadata": {},
     "output_type": "execute_result"
    }
   ],
   "source": [
    "a=[]\n",
    "size=int(input(\"Enter the size: \"))\n",
    "for i in range(size):\n",
    "    val=input(\"Enter your item: \")\n",
    "    a.append(val)\n",
    "a"
   ]
  },
  {
   "cell_type": "code",
   "execution_count": 7,
   "id": "ac189dab",
   "metadata": {},
   "outputs": [
    {
     "name": "stdout",
     "output_type": "stream",
     "text": [
      "Enter the size: 4\n",
      "Enter your item: 1\n",
      "Enter your item: 2\n",
      "Enter your item: 3\n",
      "Enter your item: 4\n"
     ]
    },
    {
     "data": {
      "text/plain": [
       "array([1, 2, 3, 4])"
      ]
     },
     "execution_count": 7,
     "metadata": {},
     "output_type": "execute_result"
    }
   ],
   "source": [
    "a=[]\n",
    "size=int(input(\"Enter the size: \"))\n",
    "for i in range(size):\n",
    "    val=int(input(\"Enter your item: \"))\n",
    "    a.append(val)\n",
    "b=np.array(a)\n",
    "b"
   ]
  },
  {
   "cell_type": "markdown",
   "id": "789e7369",
   "metadata": {},
   "source": [
    "# One Dimensional Array"
   ]
  },
  {
   "cell_type": "code",
   "execution_count": 8,
   "id": "79f6ee14",
   "metadata": {},
   "outputs": [
    {
     "data": {
      "text/plain": [
       "array([1, 2, 3])"
      ]
     },
     "execution_count": 8,
     "metadata": {},
     "output_type": "execute_result"
    }
   ],
   "source": [
    "a=[1,2,3]\n",
    "b=np.array(a)\n",
    "b"
   ]
  },
  {
   "cell_type": "code",
   "execution_count": 10,
   "id": "9c18299f",
   "metadata": {
    "scrolled": true
   },
   "outputs": [
    {
     "name": "stdout",
     "output_type": "stream",
     "text": [
      "Total Dimension :  1\n",
      "Total Shape :  (3,)\n",
      "Total Elements :  3\n"
     ]
    }
   ],
   "source": [
    "print(\"Total Dimension : \",b.ndim) #ndim==>d dimensional data\n",
    "print(\"Total Shape : \",b.shape)   #shape=n(rows),n(columns)\n",
    "print(\"Total Elements : \",b.size) #size=n(rows)*n(columns)\n"
   ]
  },
  {
   "cell_type": "markdown",
   "id": "4d16a3d4",
   "metadata": {},
   "source": [
    "# 2-D data"
   ]
  },
  {
   "cell_type": "code",
   "execution_count": 11,
   "id": "a502bebe",
   "metadata": {},
   "outputs": [
    {
     "data": {
      "text/plain": [
       "array([[1, 2, 3],\n",
       "       [4, 5, 6],\n",
       "       [7, 8, 9]])"
      ]
     },
     "execution_count": 11,
     "metadata": {},
     "output_type": "execute_result"
    }
   ],
   "source": [
    "a  = [[1,2,3] , [4,5,6] , [7,8,9]] \n",
    "b = np.array(a) \n",
    "b"
   ]
  },
  {
   "cell_type": "code",
   "execution_count": 12,
   "id": "20b80b15",
   "metadata": {},
   "outputs": [
    {
     "name": "stdout",
     "output_type": "stream",
     "text": [
      "Total Dimension :  2\n",
      "Total Shape :  (3, 3)\n",
      "Total Elements :  9\n"
     ]
    }
   ],
   "source": [
    "print(\"Total Dimension : \",b.ndim) #ndim==>d dimensional data\n",
    "print(\"Total Shape : \",b.shape)   #shape=n(rows),n(columns)\n",
    "print(\"Total Elements : \",b.size) #size=n(rows)*n(columns)\n"
   ]
  },
  {
   "cell_type": "markdown",
   "id": "67407bc2",
   "metadata": {},
   "source": [
    "# Pre-defined Functions"
   ]
  },
  {
   "cell_type": "markdown",
   "id": "abf202ef",
   "metadata": {},
   "source": [
    "# 1. zeros()==> It will create all values into 0. This function create an array (either one dimensional or multi dimensional) and fill all the values with zeros ."
   ]
  },
  {
   "cell_type": "code",
   "execution_count": 13,
   "id": "4d887473",
   "metadata": {},
   "outputs": [
    {
     "data": {
      "text/plain": [
       "array([0., 0., 0., 0.])"
      ]
     },
     "execution_count": 13,
     "metadata": {},
     "output_type": "execute_result"
    }
   ],
   "source": [
    "a=np.zeros(4)\n",
    "a"
   ]
  },
  {
   "cell_type": "markdown",
   "id": "f1f0f055",
   "metadata": {},
   "source": [
    "- Images==> Pixels (0-255) ==> 0px ==> complete black, 255px==> complete white\n",
    "\n",
    "- Normalize ==> min_pixal_value =0, max_pixel_value=1\n",
    "\n",
    "- Weights Initialization"
   ]
  },
  {
   "cell_type": "code",
   "execution_count": 14,
   "id": "5b57fc00",
   "metadata": {},
   "outputs": [
    {
     "data": {
      "text/plain": [
       "array([[0., 0., 0., 0.],\n",
       "       [0., 0., 0., 0.],\n",
       "       [0., 0., 0., 0.]])"
      ]
     },
     "execution_count": 14,
     "metadata": {},
     "output_type": "execute_result"
    }
   ],
   "source": [
    "a=np.zeros((3,4))\n",
    "a"
   ]
  },
  {
   "cell_type": "code",
   "execution_count": 15,
   "id": "8c8b8bc5",
   "metadata": {},
   "outputs": [
    {
     "name": "stdout",
     "output_type": "stream",
     "text": [
      "Total Dimension :  2\n",
      "Total Shape :  (3, 4)\n",
      "Total Elements :  12\n"
     ]
    }
   ],
   "source": [
    "print(\"Total Dimension : \",a.ndim) #ndim==>d dimensional data\n",
    "print(\"Total Shape : \",a.shape)   #shape=n(rows),n(columns)\n",
    "print(\"Total Elements : \",a.size) #size=n(rows)*n(columns)\n"
   ]
  },
  {
   "cell_type": "markdown",
   "id": "9807f495",
   "metadata": {},
   "source": [
    "# 2 . Ones ==> It will create an array in which all the elements are one. This function creates an array (either one dimensional or multi dimensional) and fill all the values with one . "
   ]
  },
  {
   "cell_type": "code",
   "execution_count": 16,
   "id": "4d57df1a",
   "metadata": {},
   "outputs": [
    {
     "data": {
      "text/plain": [
       "array([1., 1., 1., 1.])"
      ]
     },
     "execution_count": 16,
     "metadata": {},
     "output_type": "execute_result"
    }
   ],
   "source": [
    "a=np.ones(4)\n",
    "a"
   ]
  },
  {
   "cell_type": "code",
   "execution_count": 17,
   "id": "7c21b9e2",
   "metadata": {},
   "outputs": [
    {
     "data": {
      "text/plain": [
       "array([[1., 1., 1., 1.],\n",
       "       [1., 1., 1., 1.],\n",
       "       [1., 1., 1., 1.]])"
      ]
     },
     "execution_count": 17,
     "metadata": {},
     "output_type": "execute_result"
    }
   ],
   "source": [
    "a=np.ones((3,4))\n",
    "a"
   ]
  },
  {
   "cell_type": "code",
   "execution_count": 18,
   "id": "bd31db28",
   "metadata": {},
   "outputs": [
    {
     "name": "stdout",
     "output_type": "stream",
     "text": [
      "Total Dimension :  2\n",
      "Total Shape :  (3, 4)\n",
      "Total Elements :  12\n"
     ]
    }
   ],
   "source": [
    "print(\"Total Dimension : \",a.ndim) #ndim==>d dimensional data\n",
    "print(\"Total Shape : \",a.shape)   #shape=n(rows),n(columns)\n",
    "print(\"Total Elements : \",a.size) #size=n(rows)*n(columns)\n"
   ]
  },
  {
   "cell_type": "markdown",
   "id": "39a19c60",
   "metadata": {},
   "source": [
    "Diagnol Elements==> [(0,0), (1,1),(2,2),(3,3) .......(n,n)]\n",
    "\n",
    "Symmetric Matrix ==> n(rows) = n(columns)\n",
    "\n",
    "Asymmetric Matrix ==> n(rows) != n(columns)\n"
   ]
  },
  {
   "cell_type": "markdown",
   "id": "a7de9176",
   "metadata": {},
   "source": [
    "# 3 . eye ==> This function creates an array with all the digonal elements as 1 and rest are 0(In square matrix). In non-square matrix the value are still one for digonal (upto which it can draw digonal ) and rest are zero ."
   ]
  },
  {
   "cell_type": "code",
   "execution_count": 19,
   "id": "8ba34f0f",
   "metadata": {},
   "outputs": [
    {
     "data": {
      "text/plain": [
       "array([[1., 0., 0., 0.],\n",
       "       [0., 1., 0., 0.],\n",
       "       [0., 0., 1., 0.]])"
      ]
     },
     "execution_count": 19,
     "metadata": {},
     "output_type": "execute_result"
    }
   ],
   "source": [
    "a=np.eye(3,4)\n",
    "a"
   ]
  },
  {
   "cell_type": "code",
   "execution_count": 20,
   "id": "36cac3d8",
   "metadata": {},
   "outputs": [
    {
     "data": {
      "text/plain": [
       "array([[1., 0., 0., 0.],\n",
       "       [0., 1., 0., 0.],\n",
       "       [0., 0., 1., 0.],\n",
       "       [0., 0., 0., 1.]])"
      ]
     },
     "execution_count": 20,
     "metadata": {},
     "output_type": "execute_result"
    }
   ],
   "source": [
    "a=np.eye(4,4)\n",
    "a"
   ]
  },
  {
   "cell_type": "markdown",
   "id": "285e08d0",
   "metadata": {},
   "source": [
    "# 4 . diag ==> This function creats a two dimensional array with all the digonal elements as the given value and rest are zero ."
   ]
  },
  {
   "cell_type": "code",
   "execution_count": 23,
   "id": "4bb30f96",
   "metadata": {},
   "outputs": [
    {
     "data": {
      "text/plain": [
       "array([ 1, 34, 56, 78])"
      ]
     },
     "execution_count": 23,
     "metadata": {},
     "output_type": "execute_result"
    }
   ],
   "source": [
    "a=np.array([1,34,56,78])\n",
    "a"
   ]
  },
  {
   "cell_type": "code",
   "execution_count": 24,
   "id": "6f8ab347",
   "metadata": {},
   "outputs": [
    {
     "data": {
      "text/plain": [
       "array([[ 1,  0,  0,  0],\n",
       "       [ 0, 34,  0,  0],\n",
       "       [ 0,  0, 56,  0],\n",
       "       [ 0,  0,  0, 78]])"
      ]
     },
     "execution_count": 24,
     "metadata": {},
     "output_type": "execute_result"
    }
   ],
   "source": [
    "b=np.diag(a)\n",
    "b"
   ]
  },
  {
   "cell_type": "code",
   "execution_count": 21,
   "id": "0ec787b3",
   "metadata": {
    "scrolled": true
   },
   "outputs": [
    {
     "data": {
      "text/plain": [
       "array([[1, 0, 0, 0],\n",
       "       [0, 4, 0, 0],\n",
       "       [0, 0, 8, 0],\n",
       "       [0, 0, 0, 9]])"
      ]
     },
     "execution_count": 21,
     "metadata": {},
     "output_type": "execute_result"
    }
   ],
   "source": [
    "a = np.diag([1,4,8,9])\n",
    "a"
   ]
  },
  {
   "cell_type": "markdown",
   "id": "d58c53c9",
   "metadata": {},
   "source": [
    "# 5. Random Module"
   ]
  },
  {
   "cell_type": "markdown",
   "id": "4e12cae6",
   "metadata": {},
   "source": [
    "# (a) randint ==> This function is used to generate a random number between a given range .\n",
    "\n",
    "# syntax == randint(min_value , max_value , total_numbers)"
   ]
  },
  {
   "cell_type": "code",
   "execution_count": 25,
   "id": "4ff633d8",
   "metadata": {},
   "outputs": [
    {
     "data": {
      "text/plain": [
       "array([8, 4, 6])"
      ]
     },
     "execution_count": 25,
     "metadata": {},
     "output_type": "execute_result"
    }
   ],
   "source": [
    "a = np.random.randint(1,10,3) \n",
    "a"
   ]
  },
  {
   "cell_type": "code",
   "execution_count": 27,
   "id": "fad9ca38",
   "metadata": {},
   "outputs": [
    {
     "name": "stdout",
     "output_type": "stream",
     "text": [
      "Enter min number: 4\n",
      "Enter max number: 9\n",
      "Enter total numbers: 2\n"
     ]
    },
    {
     "data": {
      "text/plain": [
       "array([8, 4])"
      ]
     },
     "execution_count": 27,
     "metadata": {},
     "output_type": "execute_result"
    }
   ],
   "source": [
    "p= int(input(\"Enter min number: \"))\n",
    "q= int(input(\"Enter max number: \"))\n",
    "r= int(input(\"Enter total numbers: \"))\n",
    "a = np.random.randint(p,q,r)\n",
    "a"
   ]
  },
  {
   "cell_type": "code",
   "execution_count": 29,
   "id": "ed192bd1",
   "metadata": {},
   "outputs": [
    {
     "name": "stdout",
     "output_type": "stream",
     "text": [
      "Enter min number: 1\n",
      "Enter max number: 50\n",
      "Enter total numbers: 10\n"
     ]
    },
    {
     "data": {
      "text/plain": [
       "array([35, 13, 35, 38, 29, 36, 44, 47, 49, 33])"
      ]
     },
     "execution_count": 29,
     "metadata": {},
     "output_type": "execute_result"
    }
   ],
   "source": [
    "a = np.random.randint(int(input(\"Enter min number: \")),\n",
    "                      int(input(\"Enter max number: \")),\n",
    "                      int(input(\"Enter total numbers: \")))\n",
    "a"
   ]
  },
  {
   "cell_type": "markdown",
   "id": "2fe73b8b",
   "metadata": {},
   "source": [
    "# (b) . rand() ==> This function is used to generate a random number between 0 to 1 .\n",
    "\n",
    "# syntax == rand(numberof values) "
   ]
  },
  {
   "cell_type": "code",
   "execution_count": 26,
   "id": "02e53689",
   "metadata": {},
   "outputs": [
    {
     "data": {
      "text/plain": [
       "array([0.67472902, 0.30802746, 0.17991456, 0.60282407, 0.35399269])"
      ]
     },
     "execution_count": 26,
     "metadata": {},
     "output_type": "execute_result"
    }
   ],
   "source": [
    "a = np.random.rand(5) \n",
    "a"
   ]
  },
  {
   "cell_type": "code",
   "execution_count": 30,
   "id": "04ae921e",
   "metadata": {},
   "outputs": [
    {
     "data": {
      "text/plain": [
       "array([[0.8427765 , 0.90266757, 0.09591891, 0.98538185],\n",
       "       [0.79591489, 0.83373895, 0.33972156, 0.47509656],\n",
       "       [0.06794102, 0.46251403, 0.47036767, 0.41134597]])"
      ]
     },
     "execution_count": 30,
     "metadata": {},
     "output_type": "execute_result"
    }
   ],
   "source": [
    "a = np.random.rand(3,4) \n",
    "a"
   ]
  },
  {
   "cell_type": "markdown",
   "id": "fcbde939",
   "metadata": {},
   "source": [
    "# (c) . randn() ==> This function is used to generate a random number from -3 to close 3 . This may return positive or negative numbers as well .\n",
    "\n",
    "# syntax == random.randn(number of values)"
   ]
  },
  {
   "cell_type": "code",
   "execution_count": 31,
   "id": "93d26cee",
   "metadata": {},
   "outputs": [
    {
     "data": {
      "text/plain": [
       "array([ 0.65853624,  0.48851192,  0.01517479,  0.79262842, -0.03707734])"
      ]
     },
     "execution_count": 31,
     "metadata": {},
     "output_type": "execute_result"
    }
   ],
   "source": [
    "a = np.random.randn(5) \n",
    "a"
   ]
  },
  {
   "cell_type": "code",
   "execution_count": 32,
   "id": "734cfaa8",
   "metadata": {},
   "outputs": [
    {
     "data": {
      "text/plain": [
       "array([[0.85272328, 0.210548  , 0.03347873, 0.78696104],\n",
       "       [0.82303006, 0.6932565 , 0.17340681, 0.96591501],\n",
       "       [0.30920038, 0.66371663, 0.17281323, 0.29064654]])"
      ]
     },
     "execution_count": 32,
     "metadata": {},
     "output_type": "execute_result"
    }
   ],
   "source": [
    "a = np.random.rand(3,4) \n",
    "a"
   ]
  },
  {
   "cell_type": "markdown",
   "id": "fed032a6",
   "metadata": {},
   "source": [
    "# 6. seed() ==> It will fix our members. We know that randint function generates random numbers . Everytime we run the program , new set of random number is generated . So , solve this problem we will use seed function."
   ]
  },
  {
   "cell_type": "code",
   "execution_count": 44,
   "id": "4a2e9df3",
   "metadata": {},
   "outputs": [
    {
     "data": {
      "text/plain": [
       "array([9, 9, 7])"
      ]
     },
     "execution_count": 44,
     "metadata": {},
     "output_type": "execute_result"
    }
   ],
   "source": [
    "np.random.seed(2)\n",
    "\n",
    "a=np.random.randint(1,10,3)\n",
    "a"
   ]
  },
  {
   "cell_type": "markdown",
   "id": "5d518c1b",
   "metadata": {},
   "source": [
    "# View And Copy"
   ]
  },
  {
   "cell_type": "markdown",
   "id": "b6ed1fec",
   "metadata": {},
   "source": [
    "# View: \n",
    "This is also known as Shallow Copy. \n",
    "\n",
    "The view is just a view of the original array and view does not own the data. \n",
    "\n",
    "When we make changes to the view it affects the original array, and when changes are made to the original array it affects the view.\n",
    "\n",
    "Example: (making a view and changing original array)"
   ]
  },
  {
   "cell_type": "code",
   "execution_count": 6,
   "id": "edf54eaa",
   "metadata": {},
   "outputs": [
    {
     "name": "stdout",
     "output_type": "stream",
     "text": [
      "id of arr 2357589249072\n",
      "id of v 2357617694832\n",
      "original array-  [12  4  6  8 10]\n",
      "view-  [12  4  6  8 10]\n"
     ]
    }
   ],
   "source": [
    "import numpy as np \n",
    "\n",
    "# creating array \n",
    "arr = np.array([2, 4, 6, 8, 10]) \n",
    "\n",
    "# creating view \n",
    "v = arr.view() \n",
    "\n",
    "# both arr and v have different id \n",
    "print(\"id of arr\", id(arr)) \n",
    "print(\"id of v\", id(v)) \n",
    "\n",
    "# changing original array \n",
    "# will effect view \n",
    "arr[0] = 12\n",
    "\n",
    "# printing array and view \n",
    "print(\"original array- \", arr) \n",
    "print(\"view- \", v) \n"
   ]
  },
  {
   "cell_type": "markdown",
   "id": "c9f76617",
   "metadata": {},
   "source": [
    "# Copy: \n",
    "This is also known as Deep Copy. \n",
    "\n",
    "The copy is completely a new array and copy owns the data. \n",
    "\n",
    "When we make changes to the copy it does not affect the original array, and when changes are made to the original array it does not affect the copy.\n",
    "\n",
    "Example: (making a copy and changing original array)"
   ]
  },
  {
   "cell_type": "code",
   "execution_count": 7,
   "id": "e196ad84",
   "metadata": {},
   "outputs": [
    {
     "name": "stdout",
     "output_type": "stream",
     "text": [
      "id of arr 2357589204400\n",
      "id of c 2357623558768\n",
      "original array-  [12  4  6  8 10]\n",
      "copy-  [ 2  4  6  8 10]\n"
     ]
    }
   ],
   "source": [
    "import numpy as np \n",
    "\n",
    "# creating array \n",
    "arr = np.array([2, 4, 6, 8, 10]) \n",
    "\n",
    "# creating copy of array \n",
    "c = arr.copy() \n",
    "\n",
    "# both arr and c have different id \n",
    "print(\"id of arr\", id(arr)) \n",
    "print(\"id of c\", id(c)) \n",
    "\n",
    "# changing original array \n",
    "# this will not effect copy \n",
    "arr[0] = 12\n",
    "\n",
    "# printing array and copy \n",
    "print(\"original array- \", arr) \n",
    "print(\"copy- \", c) \n"
   ]
  },
  {
   "cell_type": "markdown",
   "id": "b72ff94d",
   "metadata": {},
   "source": [
    "# Array Owning it’s Data:\n",
    "To check whether array own it’s data in view and copy we can use the fact that every NumPy array has the attribute base that returns None if the array owns the data. Else, the base attribute refers to the original object."
   ]
  },
  {
   "cell_type": "code",
   "execution_count": 8,
   "id": "e9c5c1cf",
   "metadata": {},
   "outputs": [
    {
     "name": "stdout",
     "output_type": "stream",
     "text": [
      "None\n",
      "[ 2  4  6  8 10]\n"
     ]
    }
   ],
   "source": [
    "import numpy as np \n",
    "\n",
    "# creating array \n",
    "arr = np.array([2, 4, 6, 8, 10]) \n",
    "\n",
    "# creating copy of array \n",
    "c = arr.copy() \n",
    "\n",
    "# creating view of array \n",
    "v = arr.view() \n",
    "\n",
    "# printing base attribute of copy and view \n",
    "print(c.base) \n",
    "print(v.base) \n"
   ]
  },
  {
   "cell_type": "code",
   "execution_count": 2,
   "id": "9a30aba5",
   "metadata": {},
   "outputs": [
    {
     "data": {
      "text/plain": [
       "array([10, 20, 30,  0,  0,  0, 70])"
      ]
     },
     "execution_count": 2,
     "metadata": {},
     "output_type": "execute_result"
    }
   ],
   "source": [
    "import numpy as np\n",
    "a=np.array([10,20,30,40,50,60,70])\n",
    "b=a[3:6]\n",
    "b[:]=0\n",
    "a"
   ]
  },
  {
   "cell_type": "code",
   "execution_count": 5,
   "id": "da54baeb",
   "metadata": {},
   "outputs": [
    {
     "data": {
      "text/plain": [
       "array([10, 20, 30, 40, 50, 60, 70])"
      ]
     },
     "execution_count": 5,
     "metadata": {},
     "output_type": "execute_result"
    }
   ],
   "source": [
    "a=np.array([10,20,30,40,50,60,70])\n",
    "b=a[3:6].copy()\n",
    "b[:]=0\n",
    "a"
   ]
  },
  {
   "cell_type": "markdown",
   "id": "21ad2b9e",
   "metadata": {},
   "source": [
    "# Conditional Operation"
   ]
  },
  {
   "cell_type": "code",
   "execution_count": 6,
   "id": "6459faeb",
   "metadata": {},
   "outputs": [
    {
     "data": {
      "text/plain": [
       "array([ 1,  2,  3,  4,  5,  6,  7,  8,  9, 10, 11, 12, 13, 14, 15])"
      ]
     },
     "execution_count": 6,
     "metadata": {},
     "output_type": "execute_result"
    }
   ],
   "source": [
    "a=np.arange(1,16)\n",
    "a"
   ]
  },
  {
   "cell_type": "code",
   "execution_count": 7,
   "id": "c1dd1589",
   "metadata": {},
   "outputs": [
    {
     "data": {
      "text/plain": [
       "array([False, False, False, False, False, False, False, False, False,\n",
       "       False,  True,  True,  True,  True,  True])"
      ]
     },
     "execution_count": 7,
     "metadata": {},
     "output_type": "execute_result"
    }
   ],
   "source": [
    "a>10"
   ]
  },
  {
   "cell_type": "code",
   "execution_count": 8,
   "id": "440e0328",
   "metadata": {},
   "outputs": [
    {
     "data": {
      "text/plain": [
       "array([ True,  True,  True,  True,  True,  True,  True,  True,  True,\n",
       "       False, False, False, False, False, False])"
      ]
     },
     "execution_count": 8,
     "metadata": {},
     "output_type": "execute_result"
    }
   ],
   "source": [
    "a<10"
   ]
  },
  {
   "cell_type": "code",
   "execution_count": 9,
   "id": "055a97e9",
   "metadata": {},
   "outputs": [
    {
     "data": {
      "text/plain": [
       "array([1, 2, 3, 4, 5, 6, 7, 8, 9])"
      ]
     },
     "execution_count": 9,
     "metadata": {},
     "output_type": "execute_result"
    }
   ],
   "source": [
    "b=a<10\n",
    "a[b]"
   ]
  },
  {
   "cell_type": "code",
   "execution_count": 10,
   "id": "f68f25b0",
   "metadata": {},
   "outputs": [
    {
     "data": {
      "text/plain": [
       "array([11, 12, 13, 14, 15])"
      ]
     },
     "execution_count": 10,
     "metadata": {},
     "output_type": "execute_result"
    }
   ],
   "source": [
    "b=a>10\n",
    "a[b]"
   ]
  },
  {
   "cell_type": "code",
   "execution_count": 11,
   "id": "5a0d2a09",
   "metadata": {},
   "outputs": [
    {
     "data": {
      "text/plain": [
       "array([ 2,  4,  6,  8, 10, 12, 14])"
      ]
     },
     "execution_count": 11,
     "metadata": {},
     "output_type": "execute_result"
    }
   ],
   "source": [
    "a[a%2==0]"
   ]
  },
  {
   "cell_type": "code",
   "execution_count": 12,
   "id": "5dbb7d5c",
   "metadata": {},
   "outputs": [
    {
     "data": {
      "text/plain": [
       "array([3, 4, 5, 6])"
      ]
     },
     "execution_count": 12,
     "metadata": {},
     "output_type": "execute_result"
    }
   ],
   "source": [
    "b=np.arange(1,5)\n",
    "b+2"
   ]
  },
  {
   "cell_type": "code",
   "execution_count": 13,
   "id": "a422d376",
   "metadata": {},
   "outputs": [
    {
     "data": {
      "text/plain": [
       "array([2, 4, 6, 8])"
      ]
     },
     "execution_count": 13,
     "metadata": {},
     "output_type": "execute_result"
    }
   ],
   "source": [
    "b*2"
   ]
  },
  {
   "cell_type": "code",
   "execution_count": 14,
   "id": "d3fbd100",
   "metadata": {},
   "outputs": [
    {
     "data": {
      "text/plain": [
       "array([ 1,  4,  9, 16], dtype=int32)"
      ]
     },
     "execution_count": 14,
     "metadata": {},
     "output_type": "execute_result"
    }
   ],
   "source": [
    "b**2"
   ]
  },
  {
   "cell_type": "code",
   "execution_count": 15,
   "id": "86e71e78",
   "metadata": {},
   "outputs": [
    {
     "data": {
      "text/plain": [
       "array([ 1,  8, 27, 64], dtype=int32)"
      ]
     },
     "execution_count": 15,
     "metadata": {},
     "output_type": "execute_result"
    }
   ],
   "source": [
    "b**3"
   ]
  },
  {
   "cell_type": "code",
   "execution_count": 3,
   "id": "145799e3",
   "metadata": {},
   "outputs": [],
   "source": [
    "a =  np.arange(1,5)"
   ]
  },
  {
   "cell_type": "code",
   "execution_count": 4,
   "id": "a4077391",
   "metadata": {},
   "outputs": [],
   "source": [
    "a=  a.reshape(2,2)"
   ]
  },
  {
   "cell_type": "code",
   "execution_count": 5,
   "id": "1f3e62cb",
   "metadata": {},
   "outputs": [
    {
     "data": {
      "text/plain": [
       "array([[1, 2],\n",
       "       [3, 4]])"
      ]
     },
     "execution_count": 5,
     "metadata": {},
     "output_type": "execute_result"
    }
   ],
   "source": [
    "a"
   ]
  },
  {
   "cell_type": "code",
   "execution_count": 23,
   "id": "b018388c",
   "metadata": {},
   "outputs": [
    {
     "data": {
      "text/plain": [
       "array([[5, 6],\n",
       "       [7, 8]])"
      ]
     },
     "execution_count": 23,
     "metadata": {},
     "output_type": "execute_result"
    }
   ],
   "source": [
    "b = np.arange(5,9).reshape(2,2) \n",
    "b"
   ]
  },
  {
   "cell_type": "code",
   "execution_count": 24,
   "id": "56f2ba9d",
   "metadata": {},
   "outputs": [
    {
     "data": {
      "text/plain": [
       "array([[ 6,  8],\n",
       "       [10, 12]])"
      ]
     },
     "execution_count": 24,
     "metadata": {},
     "output_type": "execute_result"
    }
   ],
   "source": [
    "a+b"
   ]
  },
  {
   "cell_type": "code",
   "execution_count": 25,
   "id": "7be3fd30",
   "metadata": {},
   "outputs": [
    {
     "data": {
      "text/plain": [
       "array([[-4, -4],\n",
       "       [-4, -4]])"
      ]
     },
     "execution_count": 25,
     "metadata": {},
     "output_type": "execute_result"
    }
   ],
   "source": [
    "a-b"
   ]
  },
  {
   "cell_type": "code",
   "execution_count": 26,
   "id": "03affc84",
   "metadata": {},
   "outputs": [
    {
     "data": {
      "text/plain": [
       "array([[ 5, 12],\n",
       "       [21, 32]])"
      ]
     },
     "execution_count": 26,
     "metadata": {},
     "output_type": "execute_result"
    }
   ],
   "source": [
    "a*b"
   ]
  },
  {
   "cell_type": "code",
   "execution_count": 27,
   "id": "e43f0bb5",
   "metadata": {},
   "outputs": [
    {
     "data": {
      "text/plain": [
       "array([[19, 22],\n",
       "       [43, 50]])"
      ]
     },
     "execution_count": 27,
     "metadata": {},
     "output_type": "execute_result"
    }
   ],
   "source": [
    "a.dot(b) "
   ]
  },
  {
   "cell_type": "code",
   "execution_count": 28,
   "id": "7736fb69",
   "metadata": {},
   "outputs": [
    {
     "data": {
      "text/plain": [
       "array([1, 2, 3, 4])"
      ]
     },
     "execution_count": 28,
     "metadata": {},
     "output_type": "execute_result"
    }
   ],
   "source": [
    "a=np.arange(1,5)\n",
    "a"
   ]
  },
  {
   "cell_type": "code",
   "execution_count": 29,
   "id": "5e1ac238",
   "metadata": {},
   "outputs": [
    {
     "data": {
      "text/plain": [
       "4"
      ]
     },
     "execution_count": 29,
     "metadata": {},
     "output_type": "execute_result"
    }
   ],
   "source": [
    "np.max(a)"
   ]
  },
  {
   "cell_type": "code",
   "execution_count": 30,
   "id": "e9c85a0f",
   "metadata": {},
   "outputs": [
    {
     "data": {
      "text/plain": [
       "1"
      ]
     },
     "execution_count": 30,
     "metadata": {},
     "output_type": "execute_result"
    }
   ],
   "source": [
    "np.min(a)"
   ]
  },
  {
   "cell_type": "code",
   "execution_count": 31,
   "id": "b42252b2",
   "metadata": {},
   "outputs": [
    {
     "data": {
      "text/plain": [
       "3"
      ]
     },
     "execution_count": 31,
     "metadata": {},
     "output_type": "execute_result"
    }
   ],
   "source": [
    "np.argmax(a)"
   ]
  },
  {
   "cell_type": "code",
   "execution_count": 33,
   "id": "3271168c",
   "metadata": {},
   "outputs": [
    {
     "data": {
      "text/plain": [
       "0"
      ]
     },
     "execution_count": 33,
     "metadata": {},
     "output_type": "execute_result"
    }
   ],
   "source": [
    "np.argmin(a)"
   ]
  },
  {
   "cell_type": "code",
   "execution_count": 34,
   "id": "42f672ee",
   "metadata": {},
   "outputs": [
    {
     "data": {
      "text/plain": [
       "array([1.        , 1.41421356, 1.73205081, 2.        ])"
      ]
     },
     "execution_count": 34,
     "metadata": {},
     "output_type": "execute_result"
    }
   ],
   "source": [
    "np.sqrt(a)"
   ]
  },
  {
   "cell_type": "code",
   "execution_count": 35,
   "id": "eb2f1c4d",
   "metadata": {},
   "outputs": [
    {
     "data": {
      "text/plain": [
       "array([ 0.84147098,  0.90929743,  0.14112001, -0.7568025 ])"
      ]
     },
     "execution_count": 35,
     "metadata": {},
     "output_type": "execute_result"
    }
   ],
   "source": [
    "np.sin(a)"
   ]
  },
  {
   "cell_type": "code",
   "execution_count": 36,
   "id": "13c76d14",
   "metadata": {},
   "outputs": [
    {
     "data": {
      "text/plain": [
       "array([ 0.54030231, -0.41614684, -0.9899925 , -0.65364362])"
      ]
     },
     "execution_count": 36,
     "metadata": {},
     "output_type": "execute_result"
    }
   ],
   "source": [
    "np.cos(a)"
   ]
  },
  {
   "cell_type": "code",
   "execution_count": 37,
   "id": "6d8f4b28",
   "metadata": {},
   "outputs": [
    {
     "data": {
      "text/plain": [
       "array([ 1.55740772, -2.18503986, -0.14254654,  1.15782128])"
      ]
     },
     "execution_count": 37,
     "metadata": {},
     "output_type": "execute_result"
    }
   ],
   "source": [
    "np.tan(a)"
   ]
  },
  {
   "cell_type": "markdown",
   "id": "3f3c725a",
   "metadata": {},
   "source": [
    "# Linspace() ==> This function returns value between a given range and with a same gap between consicutive elements ."
   ]
  },
  {
   "cell_type": "code",
   "execution_count": 41,
   "id": "4a0e1899",
   "metadata": {},
   "outputs": [
    {
     "data": {
      "text/plain": [
       "array([1.        , 1.22222222, 1.44444444, 1.66666667, 1.88888889,\n",
       "       2.11111111, 2.33333333, 2.55555556, 2.77777778, 3.        ])"
      ]
     },
     "execution_count": 41,
     "metadata": {},
     "output_type": "execute_result"
    }
   ],
   "source": [
    "a=np.linspace(1,3,10)\n",
    "a"
   ]
  },
  {
   "cell_type": "code",
   "execution_count": 43,
   "id": "09f02dd1",
   "metadata": {},
   "outputs": [
    {
     "data": {
      "text/plain": [
       "array([[16, 11, 13],\n",
       "       [17, 13, 16],\n",
       "       [ 3, 16, 11]])"
      ]
     },
     "execution_count": 43,
     "metadata": {},
     "output_type": "execute_result"
    }
   ],
   "source": [
    "np.random.seed(122)\n",
    "a=np.random.randint(1,21,9).reshape(3,3)\n",
    "a"
   ]
  },
  {
   "cell_type": "code",
   "execution_count": 44,
   "id": "8f1b8ece",
   "metadata": {},
   "outputs": [
    {
     "data": {
      "text/plain": [
       "116"
      ]
     },
     "execution_count": 44,
     "metadata": {},
     "output_type": "execute_result"
    }
   ],
   "source": [
    "np.sum(a)"
   ]
  },
  {
   "cell_type": "code",
   "execution_count": 45,
   "id": "5a581715",
   "metadata": {},
   "outputs": [
    {
     "data": {
      "text/plain": [
       "array([40, 46, 30])"
      ]
     },
     "execution_count": 45,
     "metadata": {},
     "output_type": "execute_result"
    }
   ],
   "source": [
    "np.sum(a,axis=1)"
   ]
  },
  {
   "cell_type": "code",
   "execution_count": 46,
   "id": "919a03de",
   "metadata": {},
   "outputs": [
    {
     "data": {
      "text/plain": [
       "3"
      ]
     },
     "execution_count": 46,
     "metadata": {},
     "output_type": "execute_result"
    }
   ],
   "source": [
    "np.min(a)"
   ]
  },
  {
   "cell_type": "code",
   "execution_count": 47,
   "id": "1c305974",
   "metadata": {},
   "outputs": [
    {
     "data": {
      "text/plain": [
       "17"
      ]
     },
     "execution_count": 47,
     "metadata": {},
     "output_type": "execute_result"
    }
   ],
   "source": [
    "np.max(a)"
   ]
  },
  {
   "cell_type": "code",
   "execution_count": 48,
   "id": "134113da",
   "metadata": {},
   "outputs": [
    {
     "data": {
      "text/plain": [
       "array([ 16,  27,  40,  57,  70,  86,  89, 105, 116], dtype=int32)"
      ]
     },
     "execution_count": 48,
     "metadata": {},
     "output_type": "execute_result"
    }
   ],
   "source": [
    "np.cumsum(a)"
   ]
  },
  {
   "cell_type": "markdown",
   "id": "ed89bb66",
   "metadata": {},
   "source": [
    "# np.unique(arr , return_index = True , return_counts = True) \n",
    "\n",
    "returns 3 array:\n",
    "\n",
    "1 . the array with unique values . \n",
    "\n",
    "2 . the array with respective index value . \n",
    "\n",
    "3 . the array with counting of frequencey ."
   ]
  },
  {
   "cell_type": "code",
   "execution_count": 49,
   "id": "4d40d28a",
   "metadata": {},
   "outputs": [
    {
     "data": {
      "text/plain": [
       "(array([10, 20, 30, 40, 50, 60]),\n",
       " array([0, 1, 2, 3, 4, 6], dtype=int64),\n",
       " array([2, 2, 2, 2, 1, 1], dtype=int64))"
      ]
     },
     "execution_count": 49,
     "metadata": {},
     "output_type": "execute_result"
    }
   ],
   "source": [
    "a=np.array([10,20,30,40,50,10,60,20,30,40])\n",
    "np.unique(a, return_index=True, return_counts=True)"
   ]
  },
  {
   "cell_type": "markdown",
   "id": "aa163bb1",
   "metadata": {},
   "source": [
    "# Horizontal And Vertical Stacking"
   ]
  },
  {
   "cell_type": "code",
   "execution_count": 50,
   "id": "cf80c49c",
   "metadata": {},
   "outputs": [
    {
     "data": {
      "text/plain": [
       "array([1, 2, 3, 4])"
      ]
     },
     "execution_count": 50,
     "metadata": {},
     "output_type": "execute_result"
    }
   ],
   "source": [
    "a=np.array([1,2,3,4])\n",
    "b=np.array([5,6,7,8])\n",
    "a"
   ]
  },
  {
   "cell_type": "code",
   "execution_count": 51,
   "id": "d67c8d9e",
   "metadata": {},
   "outputs": [
    {
     "data": {
      "text/plain": [
       "array([5, 6, 7, 8])"
      ]
     },
     "execution_count": 51,
     "metadata": {},
     "output_type": "execute_result"
    }
   ],
   "source": [
    "b"
   ]
  },
  {
   "cell_type": "code",
   "execution_count": 52,
   "id": "1f911062",
   "metadata": {},
   "outputs": [
    {
     "data": {
      "text/plain": [
       "array([1, 2, 3, 4, 5, 6, 7, 8])"
      ]
     },
     "execution_count": 52,
     "metadata": {},
     "output_type": "execute_result"
    }
   ],
   "source": [
    "np.hstack((a,b))"
   ]
  },
  {
   "cell_type": "code",
   "execution_count": 53,
   "id": "8ffda7ba",
   "metadata": {},
   "outputs": [
    {
     "data": {
      "text/plain": [
       "array([[1, 2, 3, 4],\n",
       "       [5, 6, 7, 8]])"
      ]
     },
     "execution_count": 53,
     "metadata": {},
     "output_type": "execute_result"
    }
   ],
   "source": [
    "np.vstack((a,b))"
   ]
  }
 ],
 "metadata": {
  "kernelspec": {
   "display_name": "Python 3 (ipykernel)",
   "language": "python",
   "name": "python3"
  },
  "language_info": {
   "codemirror_mode": {
    "name": "ipython",
    "version": 3
   },
   "file_extension": ".py",
   "mimetype": "text/x-python",
   "name": "python",
   "nbconvert_exporter": "python",
   "pygments_lexer": "ipython3",
   "version": "3.9.12"
  }
 },
 "nbformat": 4,
 "nbformat_minor": 5
}
